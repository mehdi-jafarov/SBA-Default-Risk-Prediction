{
 "cells": [
  {
   "cell_type": "markdown",
   "id": "c5142e69-588b-407a-8ccd-55381bc16e61",
   "metadata": {},
   "source": [
    "# SBA Loan: Using the Model to Make Decisions\n",
    "This notebook follows the structure of the article [*“Should This Loan be Approved or Denied?”*](https://doi.org/10.1080/10691898.2018.1434342) and showcases **prediction ability of the logit regression model built in the project**."
   ]
  },
  {
   "cell_type": "code",
   "execution_count": 23,
   "id": "4874af59-ecc9-4fc8-9c1f-b8037dcee4e9",
   "metadata": {},
   "outputs": [],
   "source": [
    "# Imports\n",
    "import pandas as pd\n",
    "import numpy as np\n",
    "import statsmodels.api as sm\n",
    "\n",
    "from Utils.prep import Preprocessor as Prep"
   ]
  },
  {
   "cell_type": "code",
   "execution_count": 24,
   "id": "3f2129cd-7544-4b5f-a735-669eded0c396",
   "metadata": {},
   "outputs": [
    {
     "data": {
      "text/html": [
       "<div>\n",
       "<style scoped>\n",
       "    .dataframe tbody tr th:only-of-type {\n",
       "        vertical-align: middle;\n",
       "    }\n",
       "\n",
       "    .dataframe tbody tr th {\n",
       "        vertical-align: top;\n",
       "    }\n",
       "\n",
       "    .dataframe thead th {\n",
       "        text-align: right;\n",
       "    }\n",
       "</style>\n",
       "<table border=\"1\" class=\"dataframe\">\n",
       "  <thead>\n",
       "    <tr style=\"text-align: right;\">\n",
       "      <th></th>\n",
       "      <th>Loan</th>\n",
       "      <th>Name</th>\n",
       "      <th>City</th>\n",
       "      <th>Date</th>\n",
       "      <th>Loan amount requested</th>\n",
       "      <th>SBA portion guaranteed</th>\n",
       "      <th>Secured by real estate?</th>\n",
       "    </tr>\n",
       "  </thead>\n",
       "  <tbody>\n",
       "    <tr>\n",
       "      <th>0</th>\n",
       "      <td>1</td>\n",
       "      <td>Carmichael Realty</td>\n",
       "      <td>Carmichael, CA</td>\n",
       "      <td>Current (not recession)</td>\n",
       "      <td>$1,000,000</td>\n",
       "      <td>$750,000</td>\n",
       "      <td>Yes</td>\n",
       "    </tr>\n",
       "    <tr>\n",
       "      <th>1</th>\n",
       "      <td>2</td>\n",
       "      <td>SV Consulting</td>\n",
       "      <td>San Leandro, CA</td>\n",
       "      <td>Current (not recession)</td>\n",
       "      <td>$100,000</td>\n",
       "      <td>$40,000</td>\n",
       "      <td>No</td>\n",
       "    </tr>\n",
       "  </tbody>\n",
       "</table>\n",
       "</div>"
      ],
      "text/plain": [
       "   Loan               Name             City                     Date  \\\n",
       "0     1  Carmichael Realty   Carmichael, CA  Current (not recession)   \n",
       "1     2      SV Consulting  San Leandro, CA  Current (not recession)   \n",
       "\n",
       "  Loan amount requested SBA portion guaranteed Secured by real estate?  \n",
       "0            $1,000,000               $750,000                     Yes  \n",
       "1              $100,000                $40,000                      No  "
      ]
     },
     "execution_count": 24,
     "metadata": {},
     "output_type": "execute_result"
    }
   ],
   "source": [
    "# LOAD DATA TO PREDICT ON\n",
    "df_loans = pd.read_csv('Data/SBA_loan_applications.csv')\n",
    "df_loans"
   ]
  },
  {
   "cell_type": "markdown",
   "id": "4eb43460-e785-4135-9d13-b2e5f0d59dce",
   "metadata": {},
   "source": [
    "### Preparing Data for Model\n",
    "- Rename `Secured by real estate?` as `RealEstate` and map its values to binary. Same with `Date` -> `Recession`.\n",
    "- Get `Portion` from `SBA portion guaranteed` / `Loan amount requested`."
   ]
  },
  {
   "cell_type": "code",
   "execution_count": 25,
   "id": "af84e14e-ee7a-42be-baf5-e4f26ca1c1f7",
   "metadata": {},
   "outputs": [
    {
     "data": {
      "text/html": [
       "<div>\n",
       "<style scoped>\n",
       "    .dataframe tbody tr th:only-of-type {\n",
       "        vertical-align: middle;\n",
       "    }\n",
       "\n",
       "    .dataframe tbody tr th {\n",
       "        vertical-align: top;\n",
       "    }\n",
       "\n",
       "    .dataframe thead th {\n",
       "        text-align: right;\n",
       "    }\n",
       "</style>\n",
       "<table border=\"1\" class=\"dataframe\">\n",
       "  <thead>\n",
       "    <tr style=\"text-align: right;\">\n",
       "      <th></th>\n",
       "      <th>Loan</th>\n",
       "      <th>Name</th>\n",
       "      <th>RealEstate</th>\n",
       "      <th>Portion</th>\n",
       "      <th>Recession</th>\n",
       "    </tr>\n",
       "  </thead>\n",
       "  <tbody>\n",
       "    <tr>\n",
       "      <th>0</th>\n",
       "      <td>1</td>\n",
       "      <td>Carmichael Realty</td>\n",
       "      <td>1</td>\n",
       "      <td>0.75</td>\n",
       "      <td>0</td>\n",
       "    </tr>\n",
       "    <tr>\n",
       "      <th>1</th>\n",
       "      <td>2</td>\n",
       "      <td>SV Consulting</td>\n",
       "      <td>0</td>\n",
       "      <td>0.40</td>\n",
       "      <td>0</td>\n",
       "    </tr>\n",
       "  </tbody>\n",
       "</table>\n",
       "</div>"
      ],
      "text/plain": [
       "   Loan               Name  RealEstate  Portion  Recession\n",
       "0     1  Carmichael Realty           1     0.75          0\n",
       "1     2      SV Consulting           0     0.40          0"
      ]
     },
     "execution_count": 25,
     "metadata": {},
     "output_type": "execute_result"
    }
   ],
   "source": [
    "# PREPARING DATA FOR MODEL\n",
    "df_loans_prep = Prep.unsign(df_loans, ['Loan amount requested', 'SBA portion guaranteed'])\n",
    "df_loans_prep['RealEstate'] = df_loans['Secured by real estate?'].map({'Yes':1, 'No':0})\n",
    "df_loans_prep['Portion'] = (\n",
    "    df_loans_prep['SBA portion guaranteed'] / df_loans_prep['Loan amount requested']\n",
    ")\n",
    "df_loans_prep['Recession'] = 0\n",
    "df_loans_input = df_loans_prep[['Loan', 'Name', 'RealEstate', 'Portion', 'Recession']]\n",
    "df_loans_input"
   ]
  },
  {
   "cell_type": "markdown",
   "id": "946671b8-ccd8-4d71-89f8-9255c490ac14",
   "metadata": {},
   "source": [
    "### Building the Model\n",
    "Rebuilding the final model from `SBA Loan: Building and Validating the Model` `(SBA-Model.ipynb)`."
   ]
  },
  {
   "cell_type": "code",
   "execution_count": 26,
   "id": "f946b0c2-7674-4b4a-bd5d-c8dad9738e91",
   "metadata": {},
   "outputs": [
    {
     "name": "stdout",
     "output_type": "stream",
     "text": [
      "Optimization terminated successfully.\n",
      "         Current function value: 0.515108\n",
      "         Iterations 7\n"
     ]
    },
    {
     "data": {
      "text/html": [
       "<table class=\"simpletable\">\n",
       "<caption>Logit Regression Results</caption>\n",
       "<tr>\n",
       "  <th>Dep. Variable:</th>        <td>Default</td>     <th>  No. Observations:  </th>  <td>  1051</td>  \n",
       "</tr>\n",
       "<tr>\n",
       "  <th>Model:</th>                 <td>Logit</td>      <th>  Df Residuals:      </th>  <td>  1047</td>  \n",
       "</tr>\n",
       "<tr>\n",
       "  <th>Method:</th>                 <td>MLE</td>       <th>  Df Model:          </th>  <td>     3</td>  \n",
       "</tr>\n",
       "<tr>\n",
       "  <th>Date:</th>            <td>Thu, 28 Aug 2025</td> <th>  Pseudo R-squ.:     </th>  <td>0.1732</td>  \n",
       "</tr>\n",
       "<tr>\n",
       "  <th>Time:</th>                <td>06:13:07</td>     <th>  Log-Likelihood:    </th> <td> -541.38</td> \n",
       "</tr>\n",
       "<tr>\n",
       "  <th>converged:</th>             <td>True</td>       <th>  LL-Null:           </th> <td> -654.77</td> \n",
       "</tr>\n",
       "<tr>\n",
       "  <th>Covariance Type:</th>     <td>nonrobust</td>    <th>  LLR p-value:       </th> <td>6.874e-49</td>\n",
       "</tr>\n",
       "</table>\n",
       "<table class=\"simpletable\">\n",
       "<tr>\n",
       "       <td></td>         <th>coef</th>     <th>std err</th>      <th>z</th>      <th>P>|z|</th>  <th>[0.025</th>    <th>0.975]</th>  \n",
       "</tr>\n",
       "<tr>\n",
       "  <th>const</th>      <td>    1.3931</td> <td>    0.322</td> <td>    4.332</td> <td> 0.000</td> <td>    0.763</td> <td>    2.023</td>\n",
       "</tr>\n",
       "<tr>\n",
       "  <th>RealEstate</th> <td>   -2.1282</td> <td>    0.345</td> <td>   -6.169</td> <td> 0.000</td> <td>   -2.804</td> <td>   -1.452</td>\n",
       "</tr>\n",
       "<tr>\n",
       "  <th>Portion</th>    <td>   -2.9875</td> <td>    0.539</td> <td>   -5.540</td> <td> 0.000</td> <td>   -4.044</td> <td>   -1.931</td>\n",
       "</tr>\n",
       "<tr>\n",
       "  <th>Recession</th>  <td>    0.5041</td> <td>    0.241</td> <td>    2.090</td> <td> 0.037</td> <td>    0.031</td> <td>    0.977</td>\n",
       "</tr>\n",
       "</table>"
      ],
      "text/latex": [
       "\\begin{center}\n",
       "\\begin{tabular}{lclc}\n",
       "\\toprule\n",
       "\\textbf{Dep. Variable:}   &     Default      & \\textbf{  No. Observations:  } &     1051    \\\\\n",
       "\\textbf{Model:}           &      Logit       & \\textbf{  Df Residuals:      } &     1047    \\\\\n",
       "\\textbf{Method:}          &       MLE        & \\textbf{  Df Model:          } &        3    \\\\\n",
       "\\textbf{Date:}            & Thu, 28 Aug 2025 & \\textbf{  Pseudo R-squ.:     } &   0.1732    \\\\\n",
       "\\textbf{Time:}            &     06:13:07     & \\textbf{  Log-Likelihood:    } &   -541.38   \\\\\n",
       "\\textbf{converged:}       &       True       & \\textbf{  LL-Null:           } &   -654.77   \\\\\n",
       "\\textbf{Covariance Type:} &    nonrobust     & \\textbf{  LLR p-value:       } & 6.874e-49   \\\\\n",
       "\\bottomrule\n",
       "\\end{tabular}\n",
       "\\begin{tabular}{lcccccc}\n",
       "                    & \\textbf{coef} & \\textbf{std err} & \\textbf{z} & \\textbf{P$> |$z$|$} & \\textbf{[0.025} & \\textbf{0.975]}  \\\\\n",
       "\\midrule\n",
       "\\textbf{const}      &       1.3931  &        0.322     &     4.332  &         0.000        &        0.763    &        2.023     \\\\\n",
       "\\textbf{RealEstate} &      -2.1282  &        0.345     &    -6.169  &         0.000        &       -2.804    &       -1.452     \\\\\n",
       "\\textbf{Portion}    &      -2.9875  &        0.539     &    -5.540  &         0.000        &       -4.044    &       -1.931     \\\\\n",
       "\\textbf{Recession}  &       0.5041  &        0.241     &     2.090  &         0.037        &        0.031    &        0.977     \\\\\n",
       "\\bottomrule\n",
       "\\end{tabular}\n",
       "%\\caption{Logit Regression Results}\n",
       "\\end{center}"
      ],
      "text/plain": [
       "<class 'statsmodels.iolib.summary.Summary'>\n",
       "\"\"\"\n",
       "                           Logit Regression Results                           \n",
       "==============================================================================\n",
       "Dep. Variable:                Default   No. Observations:                 1051\n",
       "Model:                          Logit   Df Residuals:                     1047\n",
       "Method:                           MLE   Df Model:                            3\n",
       "Date:                Thu, 28 Aug 2025   Pseudo R-squ.:                  0.1732\n",
       "Time:                        06:13:07   Log-Likelihood:                -541.38\n",
       "converged:                       True   LL-Null:                       -654.77\n",
       "Covariance Type:            nonrobust   LLR p-value:                 6.874e-49\n",
       "==============================================================================\n",
       "                 coef    std err          z      P>|z|      [0.025      0.975]\n",
       "------------------------------------------------------------------------------\n",
       "const          1.3931      0.322      4.332      0.000       0.763       2.023\n",
       "RealEstate    -2.1282      0.345     -6.169      0.000      -2.804      -1.452\n",
       "Portion       -2.9875      0.539     -5.540      0.000      -4.044      -1.931\n",
       "Recession      0.5041      0.241      2.090      0.037       0.031       0.977\n",
       "==============================================================================\n",
       "\"\"\""
      ]
     },
     "execution_count": 26,
     "metadata": {},
     "output_type": "execute_result"
    }
   ],
   "source": [
    "# MODEL REBUILD\n",
    "df_sba_case = pd.read_csv('Data/SBAcase.csv')\n",
    "predictors = ['RealEstate', 'Portion', 'Recession']\n",
    "df_train = df_sba_case[df_sba_case['Selected'] == 1].copy()\n",
    "\n",
    "X_train = df_train[predictors]\n",
    "y_train = df_train['Default']\n",
    "X_train = sm.add_constant(X_train)\n",
    "\n",
    "sm_logreg = sm.Logit(y_train, X_train).fit()\n",
    "sm_logreg.summary()"
   ]
  },
  {
   "cell_type": "markdown",
   "id": "f340bb1a-d743-4539-8078-6f1d5d7ffffb",
   "metadata": {},
   "source": [
    "### Prediction\n",
    "- Predict on the prepared data.\n",
    "- Prediction returns values from 0 to 1 into the new column `Estimated probability of default`.\n",
    "- New column `Approve?` = `Estimated probability of default` smaller than or equal to 0.5 **-> No**, larger than or equal to 0.5 **-> Yes**."
   ]
  },
  {
   "cell_type": "code",
   "execution_count": 14,
   "id": "b171a2b0-c8bc-4f1d-91ee-21ad17a29d4c",
   "metadata": {},
   "outputs": [
    {
     "data": {
      "text/html": [
       "<div>\n",
       "<style scoped>\n",
       "    .dataframe tbody tr th:only-of-type {\n",
       "        vertical-align: middle;\n",
       "    }\n",
       "\n",
       "    .dataframe tbody tr th {\n",
       "        vertical-align: top;\n",
       "    }\n",
       "\n",
       "    .dataframe thead th {\n",
       "        text-align: right;\n",
       "    }\n",
       "</style>\n",
       "<table border=\"1\" class=\"dataframe\">\n",
       "  <thead>\n",
       "    <tr style=\"text-align: right;\">\n",
       "      <th></th>\n",
       "      <th>Loan</th>\n",
       "      <th>Name</th>\n",
       "      <th>City</th>\n",
       "      <th>Date</th>\n",
       "      <th>Loan amount requested</th>\n",
       "      <th>SBA portion guaranteed</th>\n",
       "      <th>Secured by real estate?</th>\n",
       "      <th>Estimated probability of default</th>\n",
       "      <th>Approve?</th>\n",
       "    </tr>\n",
       "  </thead>\n",
       "  <tbody>\n",
       "    <tr>\n",
       "      <th>0</th>\n",
       "      <td>1</td>\n",
       "      <td>Carmichael Realty</td>\n",
       "      <td>Carmichael, CA</td>\n",
       "      <td>Current (not recession)</td>\n",
       "      <td>$1,000,000</td>\n",
       "      <td>$750,000</td>\n",
       "      <td>Yes</td>\n",
       "      <td>0.05</td>\n",
       "      <td>Yes</td>\n",
       "    </tr>\n",
       "    <tr>\n",
       "      <th>1</th>\n",
       "      <td>2</td>\n",
       "      <td>SV Consulting</td>\n",
       "      <td>San Leandro, CA</td>\n",
       "      <td>Current (not recession)</td>\n",
       "      <td>$100,000</td>\n",
       "      <td>$40,000</td>\n",
       "      <td>No</td>\n",
       "      <td>0.55</td>\n",
       "      <td>No</td>\n",
       "    </tr>\n",
       "  </tbody>\n",
       "</table>\n",
       "</div>"
      ],
      "text/plain": [
       "   Loan               Name             City                     Date  \\\n",
       "0     1  Carmichael Realty   Carmichael, CA  Current (not recession)   \n",
       "1     2      SV Consulting  San Leandro, CA  Current (not recession)   \n",
       "\n",
       "  Loan amount requested SBA portion guaranteed Secured by real estate?  \\\n",
       "0            $1,000,000               $750,000                     Yes   \n",
       "1              $100,000                $40,000                      No   \n",
       "\n",
       "  Estimated probability of default Approve?  \n",
       "0                             0.05      Yes  \n",
       "1                             0.55       No  "
      ]
     },
     "execution_count": 14,
     "metadata": {},
     "output_type": "execute_result"
    }
   ],
   "source": [
    "X = sm.add_constant(df_loans_input[['RealEstate', 'Portion', 'Recession']])\n",
    "df_loans['Estimated probability of default'] = sm_logreg.predict(X)\n",
    "df_loans['Approve?'] = df_loans['Estimated probability of default'] <= 0.5\n",
    "\n",
    "df_loans['Estimated probability of default'] = df_loans['Estimated probability of default'].apply(lambda x: format(x, '.2f'))\n",
    "df_loans['Approve?'] = df_loans['Approve?'].map({True: 'Yes', False: 'No'})\n",
    "df_loans"
   ]
  },
  {
   "cell_type": "markdown",
   "id": "6f524ec3-6a17-409a-982b-2cf25344fb3b",
   "metadata": {},
   "source": [
    "### Result\n",
    "    Based on the predictions from the logistic regression model, the classification was accurate and interpretable.\n",
    "    The model successfully identified low and high-risk loans using meaningful features."
   ]
  }
 ],
 "metadata": {
  "kernelspec": {
   "display_name": "Python 3 (ipykernel)",
   "language": "python",
   "name": "python3"
  },
  "language_info": {
   "codemirror_mode": {
    "name": "ipython",
    "version": 3
   },
   "file_extension": ".py",
   "mimetype": "text/x-python",
   "name": "python",
   "nbconvert_exporter": "python",
   "pygments_lexer": "ipython3",
   "version": "3.13.5"
  }
 },
 "nbformat": 4,
 "nbformat_minor": 5
}
